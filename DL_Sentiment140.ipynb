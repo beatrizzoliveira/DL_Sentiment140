{
  "nbformat": 4,
  "nbformat_minor": 0,
  "metadata": {
    "colab": {
      "provenance": [],
      "gpuType": "T4"
    },
    "kernelspec": {
      "name": "python3",
      "display_name": "Python 3"
    },
    "language_info": {
      "name": "python"
    }
  },
  "cells": [
    {
      "cell_type": "markdown",
      "source": [
        "Dependencies & Data Load"
      ],
      "metadata": {
        "id": "Tf9_ldbNZLS-"
      }
    },
    {
      "cell_type": "code",
      "source": [
        "import pandas as pd\n",
        "import numpy as np\n",
        "import matplotlib.pyplot as plt\n",
        "import seaborn as sns\n",
        "import re\n",
        "import string\n",
        "import nltk\n",
        "from nltk.corpus import stopwords\n",
        "from nltk.stem import WordNetLemmatizer\n",
        "from sklearn.model_selection import train_test_split\n",
        "from sklearn.metrics import classification_report, confusion_matrix, accuracy_score\n",
        "from tensorflow.keras.preprocessing.text import Tokenizer\n",
        "from tensorflow.keras.preprocessing.sequence import pad_sequences\n",
        "from tensorflow.keras.models import Sequential\n",
        "from tensorflow.keras.layers import Embedding, LSTM, Dense, Dropout, Bidirectional, SpatialDropout1D\n",
        "from tensorflow.keras.callbacks import EarlyStopping, ModelCheckpoint\n",
        "import tensorflow as tf\n",
        "import time\n",
        "import gc\n",
        "import os\n",
        "from joblib import Parallel, delayed\n",
        "import multiprocessing\n",
        "\n",
        "# Configurações para melhor desempenho no Google Colab\n",
        "print(\"Configurando ambiente para desempenho otimizado...\")\n",
        "tf.config.optimizer.set_jit(True)  # XLA optimization\n",
        "gpus = tf.config.experimental.list_physical_devices('GPU')\n",
        "if gpus:\n",
        "    try:\n",
        "        for gpu in gpus:\n",
        "            tf.config.experimental.set_memory_growth(gpu, True)\n",
        "        print(f\"GPU(s) encontrada(s): {len(gpus)}\")\n",
        "    except RuntimeError as e:\n",
        "        print(e)\n",
        "else:\n",
        "    print(\"Nenhuma GPU encontrada, usando CPU.\")\n",
        "\n",
        "# Reduzir logs do TensorFlow para aumentar velocidade\n",
        "os.environ['TF_CPP_MIN_LOG_LEVEL'] = '3'\n",
        "tf.get_logger().setLevel('ERROR')\n",
        "\n",
        "# 1. DEFINIÇÃO DO PROBLEMA E UPLOAD DOS DADOS (OTIMIZADO)\n",
        "\n",
        "# Upload direto do arquivo CSV\n",
        "from google.colab import files\n",
        "print(\"Faça upload do arquivo de treino do Sentiment140:\")\n",
        "uploaded = files.upload()\n",
        "\n",
        "# Upload do dataset\n",
        "COLUMN_NAMES = ['sentence', 'sentiment']\n",
        "train_data = pd.read_csv('train_data.csv',\n",
        "                         names=COLUMN_NAMES,\n",
        "                         encoding='latin-1')\n",
        "\n",
        "print(f\"Dataset uploaded com {len(train_data)} entradas.\")\n",
        "\n",
        "print(\"1. Upload e preparação dos dados\")\n",
        "\n",
        "# Especificar os nomes das colunas para o dataset\n",
        "COLUMN_NAMES = ['sentence', 'target']\n",
        "\n",
        "# Função para carregar dados em chunks (para grandes datasets)\n",
        "def load_data_in_chunks(file_path, chunk_size=100000):\n",
        "    chunks = []\n",
        "    for chunk in pd.read_csv(file_path, names=COLUMN_NAMES, encoding='latin-1',\n",
        "                            chunksize=chunk_size):\n",
        "        chunks.append(chunk)\n",
        "    return pd.concat(chunks)\n",
        "\n",
        "# Função para amostragem balanceada\n",
        "def sample_balanced_data(df, size, target_col='target'):\n",
        "    # Normalização de target: 0 = negativo e 1 = positivo\n",
        "    df_normalized = df.copy()\n",
        "    df_normalized[target_col] = df_normalized[target_col].replace(4, 1)\n",
        "\n",
        "    # Selecionar amostras balanceadas para cada classe\n",
        "    # Usar nsmallest/nlargest em vez de sample para maior eficiência\n",
        "    neg_samples = df_normalized[df_normalized[target_col] == 0].sample(size//2, random_state=42)\n",
        "    pos_samples = df_normalized[df_normalized[target_col] == 1].sample(size//2, random_state=42)\n",
        "\n",
        "    # Concatenar e embaralhar\n",
        "    balanced_df = pd.concat([neg_samples, pos_samples]).sample(frac=1, random_state=42)\n",
        "    return balanced_df\n",
        "\n",
        "# Upload dados - ajustado para dataset grande\n",
        "print(\"Carregando dataset...\")\n",
        "try:\n",
        "    # Tentar o upload diretamente se o arquivo já estiver disponível\n",
        "    print(\"Tentando carregar dataset do arquivo local...\")\n",
        "    train_data = pd.read_csv('train_data.csv', names=COLUMN_NAMES, encoding='latin-1',\n",
        "                            nrows=1200000)  # Limitar a 1.2M linhas para segurança\n",
        "except:\n",
        "    print(\"Arquivo não encontrado. Use o comando de upload do Colab:\")\n",
        "    print(\"from google.colab import files\")\n",
        "    print(\"uploaded = files.upload()  # Faça upload do arquivo train.csv\")\n",
        "    print(\"train_data = pd.read_csv('train.csv', names=COLUMN_NAMES, encoding='latin-1')\")\n",
        "    # Continuar mesmo se não conseguir carregar o arquivo\n",
        "    train_data = pd.DataFrame(columns=COLUMN_NAMES)\n",
        "\n",
        "# Verificar se o dataset foi uploaded de forma correta\n",
        "if len(train_data) == 0:\n",
        "    print(\"ERRO: Dataset não carregado. Execute o código de upload manualmente.\")\n",
        "else:\n",
        "    print(f\"Dataset carregado com {len(train_data)} entradas.\")\n",
        "\n",
        "    # Amostragem para dataset grande - usar 100,000 exemplos para treino\n",
        "    SAMPLE_SIZE = 100000\n",
        "    print(f\"Amostrando {SAMPLE_SIZE} tweets para treinamento (dataset balanceado)...\")\n",
        "    train_data = sample_balanced_data(train_data, SAMPLE_SIZE)\n",
        "    print(f\"Amostragem concluída: {len(train_data)} tweets.\")\n",
        "    print(\"Distribuição de classes:\")\n",
        "    print(train_data['target'].value_counts())\n",
        "\n",
        "    # 2. DEFINIÇÃO DO OBJETIVO E MÉTRICAS\n",
        "    print(\"\\n2. Definição do objetivo e métricas\")\n",
        "    print(\"Problema: Classificação binária de sentimentos em tweets\")\n",
        "    print(\"Métrica principal: Accuracy\")\n",
        "    print(\"Target: Accuracy > 0.80\")\n",
        "    print(\"Outras métricas relevantes: Precision, Recall, F1-Score\")"
      ],
      "metadata": {
        "colab": {
          "base_uri": "https://localhost:8080/",
          "height": 541
        },
        "id": "LrVBHf57mAtV",
        "outputId": "45194d25-1aa5-46e0-a24e-ef3d0e3ed236"
      },
      "execution_count": 3,
      "outputs": [
        {
          "output_type": "stream",
          "name": "stdout",
          "text": [
            "Configurando ambiente para desempenho otimizado...\n",
            "Nenhuma GPU encontrada, usando CPU.\n",
            "Faça upload do arquivo de treino do Sentiment140:\n"
          ]
        },
        {
          "output_type": "display_data",
          "data": {
            "text/plain": [
              "<IPython.core.display.HTML object>"
            ],
            "text/html": [
              "\n",
              "     <input type=\"file\" id=\"files-90eb4c64-c69a-4fb3-a4cd-4f7148d3037b\" name=\"files[]\" multiple disabled\n",
              "        style=\"border:none\" />\n",
              "     <output id=\"result-90eb4c64-c69a-4fb3-a4cd-4f7148d3037b\">\n",
              "      Upload widget is only available when the cell has been executed in the\n",
              "      current browser session. Please rerun this cell to enable.\n",
              "      </output>\n",
              "      <script>// Copyright 2017 Google LLC\n",
              "//\n",
              "// Licensed under the Apache License, Version 2.0 (the \"License\");\n",
              "// you may not use this file except in compliance with the License.\n",
              "// You may obtain a copy of the License at\n",
              "//\n",
              "//      http://www.apache.org/licenses/LICENSE-2.0\n",
              "//\n",
              "// Unless required by applicable law or agreed to in writing, software\n",
              "// distributed under the License is distributed on an \"AS IS\" BASIS,\n",
              "// WITHOUT WARRANTIES OR CONDITIONS OF ANY KIND, either express or implied.\n",
              "// See the License for the specific language governing permissions and\n",
              "// limitations under the License.\n",
              "\n",
              "/**\n",
              " * @fileoverview Helpers for google.colab Python module.\n",
              " */\n",
              "(function(scope) {\n",
              "function span(text, styleAttributes = {}) {\n",
              "  const element = document.createElement('span');\n",
              "  element.textContent = text;\n",
              "  for (const key of Object.keys(styleAttributes)) {\n",
              "    element.style[key] = styleAttributes[key];\n",
              "  }\n",
              "  return element;\n",
              "}\n",
              "\n",
              "// Max number of bytes which will be uploaded at a time.\n",
              "const MAX_PAYLOAD_SIZE = 100 * 1024;\n",
              "\n",
              "function _uploadFiles(inputId, outputId) {\n",
              "  const steps = uploadFilesStep(inputId, outputId);\n",
              "  const outputElement = document.getElementById(outputId);\n",
              "  // Cache steps on the outputElement to make it available for the next call\n",
              "  // to uploadFilesContinue from Python.\n",
              "  outputElement.steps = steps;\n",
              "\n",
              "  return _uploadFilesContinue(outputId);\n",
              "}\n",
              "\n",
              "// This is roughly an async generator (not supported in the browser yet),\n",
              "// where there are multiple asynchronous steps and the Python side is going\n",
              "// to poll for completion of each step.\n",
              "// This uses a Promise to block the python side on completion of each step,\n",
              "// then passes the result of the previous step as the input to the next step.\n",
              "function _uploadFilesContinue(outputId) {\n",
              "  const outputElement = document.getElementById(outputId);\n",
              "  const steps = outputElement.steps;\n",
              "\n",
              "  const next = steps.next(outputElement.lastPromiseValue);\n",
              "  return Promise.resolve(next.value.promise).then((value) => {\n",
              "    // Cache the last promise value to make it available to the next\n",
              "    // step of the generator.\n",
              "    outputElement.lastPromiseValue = value;\n",
              "    return next.value.response;\n",
              "  });\n",
              "}\n",
              "\n",
              "/**\n",
              " * Generator function which is called between each async step of the upload\n",
              " * process.\n",
              " * @param {string} inputId Element ID of the input file picker element.\n",
              " * @param {string} outputId Element ID of the output display.\n",
              " * @return {!Iterable<!Object>} Iterable of next steps.\n",
              " */\n",
              "function* uploadFilesStep(inputId, outputId) {\n",
              "  const inputElement = document.getElementById(inputId);\n",
              "  inputElement.disabled = false;\n",
              "\n",
              "  const outputElement = document.getElementById(outputId);\n",
              "  outputElement.innerHTML = '';\n",
              "\n",
              "  const pickedPromise = new Promise((resolve) => {\n",
              "    inputElement.addEventListener('change', (e) => {\n",
              "      resolve(e.target.files);\n",
              "    });\n",
              "  });\n",
              "\n",
              "  const cancel = document.createElement('button');\n",
              "  inputElement.parentElement.appendChild(cancel);\n",
              "  cancel.textContent = 'Cancel upload';\n",
              "  const cancelPromise = new Promise((resolve) => {\n",
              "    cancel.onclick = () => {\n",
              "      resolve(null);\n",
              "    };\n",
              "  });\n",
              "\n",
              "  // Wait for the user to pick the files.\n",
              "  const files = yield {\n",
              "    promise: Promise.race([pickedPromise, cancelPromise]),\n",
              "    response: {\n",
              "      action: 'starting',\n",
              "    }\n",
              "  };\n",
              "\n",
              "  cancel.remove();\n",
              "\n",
              "  // Disable the input element since further picks are not allowed.\n",
              "  inputElement.disabled = true;\n",
              "\n",
              "  if (!files) {\n",
              "    return {\n",
              "      response: {\n",
              "        action: 'complete',\n",
              "      }\n",
              "    };\n",
              "  }\n",
              "\n",
              "  for (const file of files) {\n",
              "    const li = document.createElement('li');\n",
              "    li.append(span(file.name, {fontWeight: 'bold'}));\n",
              "    li.append(span(\n",
              "        `(${file.type || 'n/a'}) - ${file.size} bytes, ` +\n",
              "        `last modified: ${\n",
              "            file.lastModifiedDate ? file.lastModifiedDate.toLocaleDateString() :\n",
              "                                    'n/a'} - `));\n",
              "    const percent = span('0% done');\n",
              "    li.appendChild(percent);\n",
              "\n",
              "    outputElement.appendChild(li);\n",
              "\n",
              "    const fileDataPromise = new Promise((resolve) => {\n",
              "      const reader = new FileReader();\n",
              "      reader.onload = (e) => {\n",
              "        resolve(e.target.result);\n",
              "      };\n",
              "      reader.readAsArrayBuffer(file);\n",
              "    });\n",
              "    // Wait for the data to be ready.\n",
              "    let fileData = yield {\n",
              "      promise: fileDataPromise,\n",
              "      response: {\n",
              "        action: 'continue',\n",
              "      }\n",
              "    };\n",
              "\n",
              "    // Use a chunked sending to avoid message size limits. See b/62115660.\n",
              "    let position = 0;\n",
              "    do {\n",
              "      const length = Math.min(fileData.byteLength - position, MAX_PAYLOAD_SIZE);\n",
              "      const chunk = new Uint8Array(fileData, position, length);\n",
              "      position += length;\n",
              "\n",
              "      const base64 = btoa(String.fromCharCode.apply(null, chunk));\n",
              "      yield {\n",
              "        response: {\n",
              "          action: 'append',\n",
              "          file: file.name,\n",
              "          data: base64,\n",
              "        },\n",
              "      };\n",
              "\n",
              "      let percentDone = fileData.byteLength === 0 ?\n",
              "          100 :\n",
              "          Math.round((position / fileData.byteLength) * 100);\n",
              "      percent.textContent = `${percentDone}% done`;\n",
              "\n",
              "    } while (position < fileData.byteLength);\n",
              "  }\n",
              "\n",
              "  // All done.\n",
              "  yield {\n",
              "    response: {\n",
              "      action: 'complete',\n",
              "    }\n",
              "  };\n",
              "}\n",
              "\n",
              "scope.google = scope.google || {};\n",
              "scope.google.colab = scope.google.colab || {};\n",
              "scope.google.colab._files = {\n",
              "  _uploadFiles,\n",
              "  _uploadFilesContinue,\n",
              "};\n",
              "})(self);\n",
              "</script> "
            ]
          },
          "metadata": {}
        },
        {
          "output_type": "stream",
          "name": "stdout",
          "text": [
            "Saving test_data.csv to test_data.csv\n",
            "Saving train_data.csv to train_data (1).csv\n"
          ]
        },
        {
          "output_type": "stream",
          "name": "stderr",
          "text": [
            "<ipython-input-3-8790f4baa9e6>:51: DtypeWarning: Columns (1) have mixed types. Specify dtype option on import or set low_memory=False.\n",
            "  train_data = pd.read_csv('train_data.csv',\n"
          ]
        },
        {
          "output_type": "stream",
          "name": "stdout",
          "text": [
            "Dataset uploaded com 1523976 entradas.\n",
            "1. Upload e preparação dos dados\n",
            "Carregando dataset...\n",
            "Tentando carregar dataset do arquivo local...\n"
          ]
        },
        {
          "output_type": "stream",
          "name": "stderr",
          "text": [
            "<ipython-input-3-8790f4baa9e6>:90: DtypeWarning: Columns (1) have mixed types. Specify dtype option on import or set low_memory=False.\n",
            "  train_data = pd.read_csv('train_data.csv', names=COLUMN_NAMES, encoding='latin-1',\n"
          ]
        },
        {
          "output_type": "stream",
          "name": "stdout",
          "text": [
            "Dataset carregado com 1200000 entradas.\n",
            "Amostrando 100000 tweets para treinamento (dataset balanceado)...\n",
            "Amostragem concluída: 100000 tweets.\n",
            "Distribuição de classes:\n",
            "target\n",
            "1    50000\n",
            "0    50000\n",
            "Name: count, dtype: int64\n",
            "\n",
            "2. Definição do objetivo e métricas\n",
            "Problema: Classificação binária de sentimentos em tweets\n",
            "Métrica principal: Accuracy\n",
            "Target: Accuracy > 0.80\n",
            "Outras métricas relevantes: Precision, Recall, F1-Score\n"
          ]
        }
      ]
    },
    {
      "cell_type": "markdown",
      "source": [
        "Pré-Processamento Otimizado e Divisão de Dados para Classificação de Texto"
      ],
      "metadata": {
        "id": "x0C1ImeXZPwv"
      }
    },
    {
      "cell_type": "code",
      "source": [
        "# 3. DEFINIÇÃO DO PROTOCOLO DE AVALIAÇÃO\n",
        "print(\"\\n3. Protocolo de avaliação\")\n",
        "print(\"Usando divisão treino-validação-teste (70-15-15)\")\n",
        "\n",
        "# 4. PREPARAÇÃO DOS DADOS\n",
        "print(\"\\n4. Preparação dos dados\")\n",
        "\n",
        "import nltk\n",
        "from nltk.corpus import stopwords\n",
        "\n",
        "# Download de recursos NLTK necessários\n",
        "nltk.download('stopwords', quiet=True)\n",
        "nltk.download('wordnet', quiet=True)\n",
        "nltk.download('punkt', quiet=True)\n",
        "\n",
        "# Stopwords em cache\n",
        "stop_words = set(stopwords.words('english'))\n",
        "lemmatizer = WordNetLemmatizer()\n",
        "\n",
        "def preprocess_text(text):\n",
        "    \"\"\"\n",
        "    Função para pré-processar o texto dos tweets - otimizada para velocidade\n",
        "    \"\"\"\n",
        "    # Converter para string caso não seja\n",
        "    if not isinstance(text, str):\n",
        "        return \"\"\n",
        "\n",
        "    # Remover URLs e menções\n",
        "    text = re.sub(r'http\\S+|www\\S+|https\\S+|@\\w+|\\#', '', text, flags=re.MULTILINE)\n",
        "\n",
        "    # Remover pontuação e converter para minúsculas num passo\n",
        "    text = text.translate(str.maketrans('', '', string.punctuation)).lower()\n",
        "\n",
        "    # Tokenização\n",
        "    tokens = text.split()\n",
        "\n",
        "    # Remover stopwords e fazer lemmatização (simplificado)\n",
        "    tokens = [lemmatizer.lemmatize(word) for word in tokens if word not in stop_words]\n",
        "\n",
        "    return ' '.join(tokens)\n",
        "\n",
        "# Processamento em paralelo para dataset grande\n",
        "def process_batch(batch):\n",
        "    return [preprocess_text(text) for text in batch]\n",
        "\n",
        "print(\"Aplicando pré-processamento aos tweets (otimizado)...\")\n",
        "# Determinar o número de núcleos disponíveis\n",
        "num_cores = multiprocessing.cpu_count()\n",
        "\n",
        "# Dividir o dataset em chunks para processamento paralelo\n",
        "chunks = np.array_split(train_data['sentence'], num_cores)\n",
        "\n",
        "# Processar em paralelo\n",
        "processed_chunks = Parallel(n_jobs=num_cores)(delayed(process_batch)(chunk) for chunk in chunks)\n",
        "\n",
        "# Combinar os resultados\n",
        "processed_texts = []\n",
        "for chunk in processed_chunks:\n",
        "    processed_texts.extend(chunk)\n",
        "\n",
        "train_data['processed_text'] = processed_texts\n",
        "\n",
        "# Verificar e remover textos vazios\n",
        "empty_texts = train_data[train_data['processed_text'] == '']\n",
        "if not empty_texts.empty:\n",
        "    print(f\"Removendo {len(empty_texts)} textos vazios após pré-processamento\")\n",
        "    train_data = train_data[train_data['processed_text'] != '']\n",
        "\n",
        "# Divisão em conjuntos de treino, validação e teste\n",
        "X = train_data['processed_text']\n",
        "y = train_data['target']\n",
        "\n",
        "X_train, X_temp, y_train, y_temp = train_test_split(X, y, test_size=0.3, random_state=42)\n",
        "X_val, X_test, y_val, y_test = train_test_split(X_temp, y_temp, test_size=0.5, random_state=42)\n",
        "\n",
        "print(f\"Tamanho do conjunto de treino: {len(X_train)}\")\n",
        "print(f\"Tamanho do conjunto de validação: {len(X_val)}\")\n",
        "print(f\"Tamanho do conjunto de teste: {len(X_test)}\")\n",
        "\n",
        "# Tokenização e padding - otimizado para memória\n",
        "MAX_FEATURES = 15000   # Vocabulário maior para dataset grande\n",
        "MAXLEN = 50            # Comprimento reduzido para eficiência\n",
        "\n",
        "print(\"Tokenizando os textos...\")\n",
        "tokenizer = Tokenizer(num_words=MAX_FEATURES, split=' ')\n",
        "tokenizer.fit_on_texts(X_train)\n",
        "\n",
        "# Converter para sequências e fazer padding\n",
        "print(\"Convertendo textos para sequências...\")\n",
        "X_train_seq = tokenizer.texts_to_sequences(X_train)\n",
        "X_val_seq = tokenizer.texts_to_sequences(X_val)\n",
        "X_test_seq = tokenizer.texts_to_sequences(X_test)\n",
        "\n",
        "print(\"Aplicando padding...\")\n",
        "X_train_pad = pad_sequences(X_train_seq, maxlen=MAXLEN)\n",
        "X_val_pad = pad_sequences(X_val_seq, maxlen=MAXLEN)\n",
        "X_test_pad = pad_sequences(X_test_seq, maxlen=MAXLEN)\n",
        "\n",
        "# Liberar memória\n",
        "del X_train_seq, X_val_seq, X_test_seq\n",
        "gc.collect()"
      ],
      "metadata": {
        "colab": {
          "base_uri": "https://localhost:8080/"
        },
        "id": "Cjab-s4RBkF7",
        "outputId": "d9f0c3f4-d8fd-4938-f3f2-9a0737dc9df6"
      },
      "execution_count": 4,
      "outputs": [
        {
          "output_type": "stream",
          "name": "stdout",
          "text": [
            "\n",
            "3. Protocolo de avaliação\n",
            "Usando divisão treino-validação-teste (70-15-15)\n",
            "\n",
            "4. Preparação dos dados\n",
            "Aplicando pré-processamento aos tweets (otimizado)...\n"
          ]
        },
        {
          "output_type": "stream",
          "name": "stderr",
          "text": [
            "/usr/local/lib/python3.11/dist-packages/numpy/_core/fromnumeric.py:57: FutureWarning: 'Series.swapaxes' is deprecated and will be removed in a future version. Please use 'Series.transpose' instead.\n",
            "  return bound(*args, **kwds)\n"
          ]
        },
        {
          "output_type": "stream",
          "name": "stdout",
          "text": [
            "Removendo 132 textos vazios após pré-processamento\n",
            "Tamanho do conjunto de treino: 69907\n",
            "Tamanho do conjunto de validação: 14980\n",
            "Tamanho do conjunto de teste: 14981\n",
            "Tokenizando os textos...\n",
            "Convertendo textos para sequências...\n",
            "Aplicando padding...\n"
          ]
        },
        {
          "output_type": "execute_result",
          "data": {
            "text/plain": [
              "0"
            ]
          },
          "metadata": {},
          "execution_count": 4
        }
      ]
    },
    {
      "cell_type": "markdown",
      "source": [
        "Desenvolvimento e Treino de Modelo Baseline com LSTM para Classificação de Texto"
      ],
      "metadata": {
        "id": "jpif-53FZcqY"
      }
    },
    {
      "cell_type": "code",
      "source": [
        "# 5. DESENVOLVIMENTO DE UM MODELO BASELINE\n",
        "print(\"\\n5. Desenvolvimento de um modelo baseline otimizado\")\n",
        "\n",
        "def create_baseline_model():\n",
        "    model = Sequential()\n",
        "    model.add(Embedding(MAX_FEATURES, 64))\n",
        "    model.add(SpatialDropout1D(0.2))\n",
        "    model.add(LSTM(64, dropout=0.2, recurrent_dropout=0))  # Recurrent dropout=0 para XLA\n",
        "    model.add(Dense(1, activation='sigmoid'))\n",
        "\n",
        "    model.compile(loss='binary_crossentropy',\n",
        "                optimizer='adam',\n",
        "                metrics=['accuracy'])\n",
        "    return model\n",
        "\n",
        "# Criar e treinar o modelo baseline\n",
        "baseline_model = create_baseline_model()\n",
        "print(baseline_model.summary())\n",
        "\n",
        "# Callbacks para early stopping e checkpoint\n",
        "early_stopping = EarlyStopping(monitor='val_loss', patience=2, verbose=1, restore_best_weights=True)\n",
        "model_checkpoint = ModelCheckpoint('best_model.h5', monitor='val_accuracy', verbose=1, save_best_only=True, mode='max')\n",
        "\n",
        "print(\"Treinando o modelo baseline...\")\n",
        "start_time = time.time()\n",
        "\n",
        "# Convert y_train and y_val to numerical type\n",
        "y_train = y_train.astype(int)\n",
        "y_val = y_val.astype(int)\n",
        "\n",
        "history_baseline = baseline_model.fit(\n",
        "    X_train_pad, y_train,\n",
        "    epochs=5,\n",
        "    batch_size=128,  # Batch size maior para GPU\n",
        "    validation_data=(X_val_pad, y_val),\n",
        "    callbacks=[early_stopping, model_checkpoint],\n",
        "    verbose=1\n",
        ")\n",
        "\n",
        "baseline_training_time = time.time() - start_time\n",
        "print(f\"Tempo de treinamento do modelo baseline: {baseline_training_time:.2f} segundos\")\n",
        "\n",
        "# Avaliar o modelo baseline\n",
        "baseline_preds = (baseline_model.predict(X_test_pad, batch_size=256) > 0.5).astype(int)\n",
        "\n",
        "# Convert y_test to numerical type before calculating accuracy\n",
        "y_test = y_test.astype(int)\n",
        "baseline_accuracy = accuracy_score(y_test, baseline_preds)\n",
        "print(f\"Acurácia do modelo baseline: {baseline_accuracy:.4f}\")\n",
        "print(\"\\nRelatório de classificação do modelo baseline:\")\n",
        "print(classification_report(y_test, baseline_preds))\n",
        "\n",
        "# Visualizar as métricas do modelo baseline\n",
        "plt.figure(figsize=(12, 4))\n",
        "plt.subplot(1, 2, 1)\n",
        "plt.plot(history_baseline.history['accuracy'])\n",
        "plt.plot(history_baseline.history['val_accuracy'])\n",
        "plt.title('Acurácia do Modelo Baseline')\n",
        "plt.ylabel('Acurácia')\n",
        "plt.xlabel('Época')\n",
        "plt.legend(['Treino', 'Validação'], loc='lower right')\n",
        "\n",
        "plt.subplot(1, 2, 2)\n",
        "plt.plot(history_baseline.history['loss'])\n",
        "plt.plot(history_baseline.history['val_loss'])\n",
        "plt.title('Perda do Modelo Baseline')\n",
        "plt.ylabel('Perda')\n",
        "plt.xlabel('Época')\n",
        "plt.legend(['Treino', 'Validação'], loc='upper right')\n",
        "plt.tight_layout()\n",
        "plt.savefig('baseline_metrics.png')\n",
        "plt.show()\n",
        "\n",
        "# Liberar memória\n",
        "del baseline_model\n",
        "gc.collect()"
      ],
      "metadata": {
        "colab": {
          "base_uri": "https://localhost:8080/",
          "height": 1000
        },
        "id": "aVZdD7_NDvIP",
        "outputId": "d6ec493c-3463-4f00-86ac-5485841647a4"
      },
      "execution_count": 6,
      "outputs": [
        {
          "output_type": "stream",
          "name": "stdout",
          "text": [
            "\n",
            "5. Desenvolvimento de um modelo baseline otimizado\n"
          ]
        },
        {
          "output_type": "display_data",
          "data": {
            "text/plain": [
              "\u001b[1mModel: \"sequential_1\"\u001b[0m\n"
            ],
            "text/html": [
              "<pre style=\"white-space:pre;overflow-x:auto;line-height:normal;font-family:Menlo,'DejaVu Sans Mono',consolas,'Courier New',monospace\"><span style=\"font-weight: bold\">Model: \"sequential_1\"</span>\n",
              "</pre>\n"
            ]
          },
          "metadata": {}
        },
        {
          "output_type": "display_data",
          "data": {
            "text/plain": [
              "┏━━━━━━━━━━━━━━━━━━━━━━━━━━━━━━━━━━━━━━┳━━━━━━━━━━━━━━━━━━━━━━━━━━━━━┳━━━━━━━━━━━━━━━━━┓\n",
              "┃\u001b[1m \u001b[0m\u001b[1mLayer (type)                        \u001b[0m\u001b[1m \u001b[0m┃\u001b[1m \u001b[0m\u001b[1mOutput Shape               \u001b[0m\u001b[1m \u001b[0m┃\u001b[1m \u001b[0m\u001b[1m        Param #\u001b[0m\u001b[1m \u001b[0m┃\n",
              "┡━━━━━━━━━━━━━━━━━━━━━━━━━━━━━━━━━━━━━━╇━━━━━━━━━━━━━━━━━━━━━━━━━━━━━╇━━━━━━━━━━━━━━━━━┩\n",
              "│ embedding_1 (\u001b[38;5;33mEmbedding\u001b[0m)              │ ?                           │     \u001b[38;5;34m0\u001b[0m (unbuilt) │\n",
              "├──────────────────────────────────────┼─────────────────────────────┼─────────────────┤\n",
              "│ spatial_dropout1d_1                  │ ?                           │               \u001b[38;5;34m0\u001b[0m │\n",
              "│ (\u001b[38;5;33mSpatialDropout1D\u001b[0m)                   │                             │                 │\n",
              "├──────────────────────────────────────┼─────────────────────────────┼─────────────────┤\n",
              "│ lstm_1 (\u001b[38;5;33mLSTM\u001b[0m)                        │ ?                           │     \u001b[38;5;34m0\u001b[0m (unbuilt) │\n",
              "├──────────────────────────────────────┼─────────────────────────────┼─────────────────┤\n",
              "│ dense_1 (\u001b[38;5;33mDense\u001b[0m)                      │ ?                           │     \u001b[38;5;34m0\u001b[0m (unbuilt) │\n",
              "└──────────────────────────────────────┴─────────────────────────────┴─────────────────┘\n"
            ],
            "text/html": [
              "<pre style=\"white-space:pre;overflow-x:auto;line-height:normal;font-family:Menlo,'DejaVu Sans Mono',consolas,'Courier New',monospace\">┏━━━━━━━━━━━━━━━━━━━━━━━━━━━━━━━━━━━━━━┳━━━━━━━━━━━━━━━━━━━━━━━━━━━━━┳━━━━━━━━━━━━━━━━━┓\n",
              "┃<span style=\"font-weight: bold\"> Layer (type)                         </span>┃<span style=\"font-weight: bold\"> Output Shape                </span>┃<span style=\"font-weight: bold\">         Param # </span>┃\n",
              "┡━━━━━━━━━━━━━━━━━━━━━━━━━━━━━━━━━━━━━━╇━━━━━━━━━━━━━━━━━━━━━━━━━━━━━╇━━━━━━━━━━━━━━━━━┩\n",
              "│ embedding_1 (<span style=\"color: #0087ff; text-decoration-color: #0087ff\">Embedding</span>)              │ ?                           │     <span style=\"color: #00af00; text-decoration-color: #00af00\">0</span> (unbuilt) │\n",
              "├──────────────────────────────────────┼─────────────────────────────┼─────────────────┤\n",
              "│ spatial_dropout1d_1                  │ ?                           │               <span style=\"color: #00af00; text-decoration-color: #00af00\">0</span> │\n",
              "│ (<span style=\"color: #0087ff; text-decoration-color: #0087ff\">SpatialDropout1D</span>)                   │                             │                 │\n",
              "├──────────────────────────────────────┼─────────────────────────────┼─────────────────┤\n",
              "│ lstm_1 (<span style=\"color: #0087ff; text-decoration-color: #0087ff\">LSTM</span>)                        │ ?                           │     <span style=\"color: #00af00; text-decoration-color: #00af00\">0</span> (unbuilt) │\n",
              "├──────────────────────────────────────┼─────────────────────────────┼─────────────────┤\n",
              "│ dense_1 (<span style=\"color: #0087ff; text-decoration-color: #0087ff\">Dense</span>)                      │ ?                           │     <span style=\"color: #00af00; text-decoration-color: #00af00\">0</span> (unbuilt) │\n",
              "└──────────────────────────────────────┴─────────────────────────────┴─────────────────┘\n",
              "</pre>\n"
            ]
          },
          "metadata": {}
        },
        {
          "output_type": "display_data",
          "data": {
            "text/plain": [
              "\u001b[1m Total params: \u001b[0m\u001b[38;5;34m0\u001b[0m (0.00 B)\n"
            ],
            "text/html": [
              "<pre style=\"white-space:pre;overflow-x:auto;line-height:normal;font-family:Menlo,'DejaVu Sans Mono',consolas,'Courier New',monospace\"><span style=\"font-weight: bold\"> Total params: </span><span style=\"color: #00af00; text-decoration-color: #00af00\">0</span> (0.00 B)\n",
              "</pre>\n"
            ]
          },
          "metadata": {}
        },
        {
          "output_type": "display_data",
          "data": {
            "text/plain": [
              "\u001b[1m Trainable params: \u001b[0m\u001b[38;5;34m0\u001b[0m (0.00 B)\n"
            ],
            "text/html": [
              "<pre style=\"white-space:pre;overflow-x:auto;line-height:normal;font-family:Menlo,'DejaVu Sans Mono',consolas,'Courier New',monospace\"><span style=\"font-weight: bold\"> Trainable params: </span><span style=\"color: #00af00; text-decoration-color: #00af00\">0</span> (0.00 B)\n",
              "</pre>\n"
            ]
          },
          "metadata": {}
        },
        {
          "output_type": "display_data",
          "data": {
            "text/plain": [
              "\u001b[1m Non-trainable params: \u001b[0m\u001b[38;5;34m0\u001b[0m (0.00 B)\n"
            ],
            "text/html": [
              "<pre style=\"white-space:pre;overflow-x:auto;line-height:normal;font-family:Menlo,'DejaVu Sans Mono',consolas,'Courier New',monospace\"><span style=\"font-weight: bold\"> Non-trainable params: </span><span style=\"color: #00af00; text-decoration-color: #00af00\">0</span> (0.00 B)\n",
              "</pre>\n"
            ]
          },
          "metadata": {}
        },
        {
          "output_type": "stream",
          "name": "stdout",
          "text": [
            "None\n",
            "Treinando o modelo baseline...\n",
            "Epoch 1/5\n",
            "\u001b[1m546/547\u001b[0m \u001b[32m━━━━━━━━━━━━━━━━━━━\u001b[0m\u001b[37m━\u001b[0m \u001b[1m0s\u001b[0m 86ms/step - accuracy: 0.6785 - loss: 0.5866\n",
            "Epoch 1: val_accuracy improved from -inf to 0.76522, saving model to best_model.h5\n"
          ]
        },
        {
          "output_type": "stream",
          "name": "stderr",
          "text": [
            "WARNING:absl:You are saving your model as an HDF5 file via `model.save()` or `keras.saving.save_model(model)`. This file format is considered legacy. We recommend using instead the native Keras format, e.g. `model.save('my_model.keras')` or `keras.saving.save_model(model, 'my_model.keras')`. \n"
          ]
        },
        {
          "output_type": "stream",
          "name": "stdout",
          "text": [
            "\b\b\b\b\b\b\b\b\b\b\b\b\b\b\b\b\b\b\b\b\b\b\b\b\b\b\b\b\b\b\b\b\b\b\b\b\b\b\b\b\b\b\b\b\b\b\b\b\b\b\b\b\b\b\b\b\b\b\b\b\b\b\b\b\b\b\b\b\b\b\b\b\b\b\b\r\u001b[1m547/547\u001b[0m \u001b[32m━━━━━━━━━━━━━━━━━━━━\u001b[0m\u001b[37m\u001b[0m \u001b[1m58s\u001b[0m 96ms/step - accuracy: 0.6787 - loss: 0.5864 - val_accuracy: 0.7652 - val_loss: 0.4959\n",
            "Epoch 2/5\n",
            "\u001b[1m546/547\u001b[0m \u001b[32m━━━━━━━━━━━━━━━━━━━\u001b[0m\u001b[37m━\u001b[0m \u001b[1m0s\u001b[0m 90ms/step - accuracy: 0.7932 - loss: 0.4448\n",
            "Epoch 2: val_accuracy did not improve from 0.76522\n",
            "\u001b[1m547/547\u001b[0m \u001b[32m━━━━━━━━━━━━━━━━━━━━\u001b[0m\u001b[37m\u001b[0m \u001b[1m82s\u001b[0m 95ms/step - accuracy: 0.7932 - loss: 0.4448 - val_accuracy: 0.7638 - val_loss: 0.4920\n",
            "Epoch 3/5\n",
            "\u001b[1m546/547\u001b[0m \u001b[32m━━━━━━━━━━━━━━━━━━━\u001b[0m\u001b[37m━\u001b[0m \u001b[1m0s\u001b[0m 87ms/step - accuracy: 0.8107 - loss: 0.4161\n",
            "Epoch 3: val_accuracy did not improve from 0.76522\n",
            "\u001b[1m547/547\u001b[0m \u001b[32m━━━━━━━━━━━━━━━━━━━━\u001b[0m\u001b[37m\u001b[0m \u001b[1m83s\u001b[0m 97ms/step - accuracy: 0.8107 - loss: 0.4162 - val_accuracy: 0.7602 - val_loss: 0.5048\n",
            "Epoch 4/5\n",
            "\u001b[1m546/547\u001b[0m \u001b[32m━━━━━━━━━━━━━━━━━━━\u001b[0m\u001b[37m━\u001b[0m \u001b[1m0s\u001b[0m 88ms/step - accuracy: 0.8265 - loss: 0.3840\n",
            "Epoch 4: val_accuracy did not improve from 0.76522\n",
            "\u001b[1m547/547\u001b[0m \u001b[32m━━━━━━━━━━━━━━━━━━━━\u001b[0m\u001b[37m\u001b[0m \u001b[1m51s\u001b[0m 93ms/step - accuracy: 0.8265 - loss: 0.3840 - val_accuracy: 0.7557 - val_loss: 0.5183\n",
            "Epoch 4: early stopping\n",
            "Restoring model weights from the end of the best epoch: 2.\n",
            "Tempo de treinamento do modelo baseline: 303.85 segundos\n",
            "\u001b[1m59/59\u001b[0m \u001b[32m━━━━━━━━━━━━━━━━━━━━\u001b[0m\u001b[37m\u001b[0m \u001b[1m3s\u001b[0m 44ms/step\n",
            "Acurácia do modelo baseline: 0.7652\n",
            "\n",
            "Relatório de classificação do modelo baseline:\n",
            "              precision    recall  f1-score   support\n",
            "\n",
            "           0       0.76      0.78      0.77      7516\n",
            "           1       0.77      0.75      0.76      7465\n",
            "\n",
            "    accuracy                           0.77     14981\n",
            "   macro avg       0.77      0.77      0.77     14981\n",
            "weighted avg       0.77      0.77      0.77     14981\n",
            "\n"
          ]
        },
        {
          "output_type": "display_data",
          "data": {
            "text/plain": [
              "<Figure size 1200x400 with 2 Axes>"
            ],
            "image/png": "[encoded data removed]"
          },
          "metadata": {}
        },
        {
          "output_type": "execute_result",
          "data": {
            "text/plain": [
              "9026"
            ]
          },
          "metadata": {},
          "execution_count": 6
        }
      ]
    },
    {
      "cell_type": "markdown",
      "source": [
        "Aprimoramento com Modelo LSTM Bidirecional e Camadas Adicionais para Classificação de Texto"
      ],
      "metadata": {
        "id": "5k5f-LHtZmlS"
      }
    },
    {
      "cell_type": "code",
      "source": [
        "# 6. ADIÇÃO DE COMPLEXIDADE\n",
        "print(\"\\n6. Adicionando complexidade ao modelo\")\n",
        "\n",
        "def create_complex_model():\n",
        "    model = Sequential()\n",
        "    model.add(Embedding(MAX_FEATURES, 100))\n",
        "    model.add(SpatialDropout1D(0.2))\n",
        "    model.add(Bidirectional(LSTM(64, return_sequences=True, dropout=0.2, recurrent_dropout=0)))\n",
        "    model.add(Bidirectional(LSTM(32, dropout=0.2, recurrent_dropout=0)))\n",
        "    model.add(Dense(32, activation='relu'))\n",
        "    model.add(Dense(1, activation='sigmoid'))\n",
        "\n",
        "    model.compile(loss='binary_crossentropy',\n",
        "                optimizer='adam',\n",
        "                metrics=['accuracy'])\n",
        "    return model\n",
        "\n",
        "# Criar e treinar o modelo complexo\n",
        "complex_model = create_complex_model()\n",
        "print(complex_model.summary())\n",
        "\n",
        "print(\"Treinando o modelo complexo...\")\n",
        "start_time = time.time()\n",
        "\n",
        "history_complex = complex_model.fit(\n",
        "    X_train_pad, y_train,\n",
        "    epochs=7,\n",
        "    batch_size=64,\n",
        "    validation_data=(X_val_pad, y_val),\n",
        "    callbacks=[early_stopping, model_checkpoint],\n",
        "    verbose=1\n",
        ")\n",
        "\n",
        "complex_training_time = time.time() - start_time\n",
        "print(f\"Tempo de treinamento do modelo complexo: {complex_training_time:.2f} segundos\")\n",
        "\n",
        "# Avaliar o modelo complexo\n",
        "complex_preds = (complex_model.predict(X_test_pad, batch_size=256) > 0.5).astype(int)\n",
        "complex_accuracy = accuracy_score(y_test, complex_preds)\n",
        "print(f\"Acurácia do modelo complexo: {complex_accuracy:.4f}\")\n",
        "print(\"\\nRelatório de classificação do modelo complexo:\")\n",
        "print(classification_report(y_test, complex_preds))\n",
        "\n",
        "# Visualizar as métricas do modelo complexo\n",
        "plt.figure(figsize=(12, 4))\n",
        "plt.subplot(1, 2, 1)\n",
        "plt.plot(history_complex.history['accuracy'])\n",
        "plt.plot(history_complex.history['val_accuracy'])\n",
        "plt.title('Acurácia do Modelo Complexo')\n",
        "plt.ylabel('Acurácia')\n",
        "plt.xlabel('Época')\n",
        "plt.legend(['Treino', 'Validação'], loc='lower right')\n",
        "\n",
        "plt.subplot(1, 2, 2)\n",
        "plt.plot(history_complex.history['loss'])\n",
        "plt.plot(history_complex.history['val_loss'])\n",
        "plt.title('Perda do Modelo Complexo')\n",
        "plt.ylabel('Perda')\n",
        "plt.xlabel('Época')\n",
        "plt.legend(['Treino', 'Validação'], loc='upper right')\n",
        "plt.tight_layout()\n",
        "plt.savefig('complex_metrics.png')\n",
        "plt.show()\n",
        "\n",
        "# Liberar memória\n",
        "del complex_model\n",
        "gc.collect()"
      ],
      "metadata": {
        "colab": {
          "base_uri": "https://localhost:8080/",
          "height": 1000
        },
        "id": "o5205JUEEg18",
        "outputId": "150c3731-4e44-447d-89b8-0d3d5147ab7c"
      },
      "execution_count": 8,
      "outputs": [
        {
          "output_type": "stream",
          "name": "stdout",
          "text": [
            "\n",
            "6. Adicionando complexidade ao modelo\n"
          ]
        },
        {
          "output_type": "display_data",
          "data": {
            "text/plain": [
              "\u001b[1mModel: \"sequential_3\"\u001b[0m\n"
            ],
            "text/html": [
              "<pre style=\"white-space:pre;overflow-x:auto;line-height:normal;font-family:Menlo,'DejaVu Sans Mono',consolas,'Courier New',monospace\"><span style=\"font-weight: bold\">Model: \"sequential_3\"</span>\n",
              "</pre>\n"
            ]
          },
          "metadata": {}
        },
        {
          "output_type": "display_data",
          "data": {
            "text/plain": [
              "┏━━━━━━━━━━━━━━━━━━━━━━━━━━━━━━━━━━━━━━┳━━━━━━━━━━━━━━━━━━━━━━━━━━━━━┳━━━━━━━━━━━━━━━━━┓\n",
              "┃\u001b[1m \u001b[0m\u001b[1mLayer (type)                        \u001b[0m\u001b[1m \u001b[0m┃\u001b[1m \u001b[0m\u001b[1mOutput Shape               \u001b[0m\u001b[1m \u001b[0m┃\u001b[1m \u001b[0m\u001b[1m        Param #\u001b[0m\u001b[1m \u001b[0m┃\n",
              "┡━━━━━━━━━━━━━━━━━━━━━━━━━━━━━━━━━━━━━━╇━━━━━━━━━━━━━━━━━━━━━━━━━━━━━╇━━━━━━━━━━━━━━━━━┩\n",
              "│ embedding_3 (\u001b[38;5;33mEmbedding\u001b[0m)              │ ?                           │     \u001b[38;5;34m0\u001b[0m (unbuilt) │\n",
              "├──────────────────────────────────────┼─────────────────────────────┼─────────────────┤\n",
              "│ spatial_dropout1d_3                  │ ?                           │               \u001b[38;5;34m0\u001b[0m │\n",
              "│ (\u001b[38;5;33mSpatialDropout1D\u001b[0m)                   │                             │                 │\n",
              "├──────────────────────────────────────┼─────────────────────────────┼─────────────────┤\n",
              "│ bidirectional_2 (\u001b[38;5;33mBidirectional\u001b[0m)      │ ?                           │     \u001b[38;5;34m0\u001b[0m (unbuilt) │\n",
              "├──────────────────────────────────────┼─────────────────────────────┼─────────────────┤\n",
              "│ bidirectional_3 (\u001b[38;5;33mBidirectional\u001b[0m)      │ ?                           │     \u001b[38;5;34m0\u001b[0m (unbuilt) │\n",
              "├──────────────────────────────────────┼─────────────────────────────┼─────────────────┤\n",
              "│ dense_4 (\u001b[38;5;33mDense\u001b[0m)                      │ ?                           │     \u001b[38;5;34m0\u001b[0m (unbuilt) │\n",
              "├──────────────────────────────────────┼─────────────────────────────┼─────────────────┤\n",
              "│ dense_5 (\u001b[38;5;33mDense\u001b[0m)                      │ ?                           │     \u001b[38;5;34m0\u001b[0m (unbuilt) │\n",
              "└──────────────────────────────────────┴─────────────────────────────┴─────────────────┘\n"
            ],
            "text/html": [
              "<pre style=\"white-space:pre;overflow-x:auto;line-height:normal;font-family:Menlo,'DejaVu Sans Mono',consolas,'Courier New',monospace\">┏━━━━━━━━━━━━━━━━━━━━━━━━━━━━━━━━━━━━━━┳━━━━━━━━━━━━━━━━━━━━━━━━━━━━━┳━━━━━━━━━━━━━━━━━┓\n",
              "┃<span style=\"font-weight: bold\"> Layer (type)                         </span>┃<span style=\"font-weight: bold\"> Output Shape                </span>┃<span style=\"font-weight: bold\">         Param # </span>┃\n",
              "┡━━━━━━━━━━━━━━━━━━━━━━━━━━━━━━━━━━━━━━╇━━━━━━━━━━━━━━━━━━━━━━━━━━━━━╇━━━━━━━━━━━━━━━━━┩\n",
              "│ embedding_3 (<span style=\"color: #0087ff; text-decoration-color: #0087ff\">Embedding</span>)              │ ?                           │     <span style=\"color: #00af00; text-decoration-color: #00af00\">0</span> (unbuilt) │\n",
              "├──────────────────────────────────────┼─────────────────────────────┼─────────────────┤\n",
              "│ spatial_dropout1d_3                  │ ?                           │               <span style=\"color: #00af00; text-decoration-color: #00af00\">0</span> │\n",
              "│ (<span style=\"color: #0087ff; text-decoration-color: #0087ff\">SpatialDropout1D</span>)                   │                             │                 │\n",
              "├──────────────────────────────────────┼─────────────────────────────┼─────────────────┤\n",
              "│ bidirectional_2 (<span style=\"color: #0087ff; text-decoration-color: #0087ff\">Bidirectional</span>)      │ ?                           │     <span style=\"color: #00af00; text-decoration-color: #00af00\">0</span> (unbuilt) │\n",
              "├──────────────────────────────────────┼─────────────────────────────┼─────────────────┤\n",
              "│ bidirectional_3 (<span style=\"color: #0087ff; text-decoration-color: #0087ff\">Bidirectional</span>)      │ ?                           │     <span style=\"color: #00af00; text-decoration-color: #00af00\">0</span> (unbuilt) │\n",
              "├──────────────────────────────────────┼─────────────────────────────┼─────────────────┤\n",
              "│ dense_4 (<span style=\"color: #0087ff; text-decoration-color: #0087ff\">Dense</span>)                      │ ?                           │     <span style=\"color: #00af00; text-decoration-color: #00af00\">0</span> (unbuilt) │\n",
              "├──────────────────────────────────────┼─────────────────────────────┼─────────────────┤\n",
              "│ dense_5 (<span style=\"color: #0087ff; text-decoration-color: #0087ff\">Dense</span>)                      │ ?                           │     <span style=\"color: #00af00; text-decoration-color: #00af00\">0</span> (unbuilt) │\n",
              "└──────────────────────────────────────┴─────────────────────────────┴─────────────────┘\n",
              "</pre>\n"
            ]
          },
          "metadata": {}
        },
        {
          "output_type": "display_data",
          "data": {
            "text/plain": [
              "\u001b[1m Total params: \u001b[0m\u001b[38;5;34m0\u001b[0m (0.00 B)\n"
            ],
            "text/html": [
              "<pre style=\"white-space:pre;overflow-x:auto;line-height:normal;font-family:Menlo,'DejaVu Sans Mono',consolas,'Courier New',monospace\"><span style=\"font-weight: bold\"> Total params: </span><span style=\"color: #00af00; text-decoration-color: #00af00\">0</span> (0.00 B)\n",
              "</pre>\n"
            ]
          },
          "metadata": {}
        },
        {
          "output_type": "display_data",
          "data": {
            "text/plain": [
              "\u001b[1m Trainable params: \u001b[0m\u001b[38;5;34m0\u001b[0m (0.00 B)\n"
            ],
            "text/html": [
              "<pre style=\"white-space:pre;overflow-x:auto;line-height:normal;font-family:Menlo,'DejaVu Sans Mono',consolas,'Courier New',monospace\"><span style=\"font-weight: bold\"> Trainable params: </span><span style=\"color: #00af00; text-decoration-color: #00af00\">0</span> (0.00 B)\n",
              "</pre>\n"
            ]
          },
          "metadata": {}
        },
        {
          "output_type": "display_data",
          "data": {
            "text/plain": [
              "\u001b[1m Non-trainable params: \u001b[0m\u001b[38;5;34m0\u001b[0m (0.00 B)\n"
            ],
            "text/html": [
              "<pre style=\"white-space:pre;overflow-x:auto;line-height:normal;font-family:Menlo,'DejaVu Sans Mono',consolas,'Courier New',monospace\"><span style=\"font-weight: bold\"> Non-trainable params: </span><span style=\"color: #00af00; text-decoration-color: #00af00\">0</span> (0.00 B)\n",
              "</pre>\n"
            ]
          },
          "metadata": {}
        },
        {
          "output_type": "stream",
          "name": "stdout",
          "text": [
            "None\n",
            "Treinando o modelo complexo...\n",
            "Epoch 1/7\n",
            "\u001b[1m1093/1093\u001b[0m \u001b[32m━━━━━━━━━━━━━━━━━━━━\u001b[0m\u001b[37m\u001b[0m \u001b[1m0s\u001b[0m 169ms/step - accuracy: 0.6725 - loss: 0.5776\n",
            "Epoch 1: val_accuracy improved from 0.76789 to 0.76856, saving model to best_model.h5\n"
          ]
        },
        {
          "output_type": "stream",
          "name": "stderr",
          "text": [
            "WARNING:absl:You are saving your model as an HDF5 file via `model.save()` or `keras.saving.save_model(model)`. This file format is considered legacy. We recommend using instead the native Keras format, e.g. `model.save('my_model.keras')` or `keras.saving.save_model(model, 'my_model.keras')`. \n"
          ]
        },
        {
          "output_type": "stream",
          "name": "stdout",
          "text": [
            "\b\b\b\b\b\b\b\b\b\b\b\b\b\b\b\b\b\b\b\b\b\b\b\b\b\b\b\b\b\b\b\b\b\b\b\b\b\b\b\b\b\b\b\b\b\b\b\b\b\b\b\b\b\b\b\b\b\b\b\b\b\b\b\b\b\b\b\b\b\b\b\b\b\b\b\b\b\b\r\u001b[1m1093/1093\u001b[0m \u001b[32m━━━━━━━━━━━━━━━━━━━━\u001b[0m\u001b[37m\u001b[0m \u001b[1m247s\u001b[0m 188ms/step - accuracy: 0.6726 - loss: 0.5775 - val_accuracy: 0.7686 - val_loss: 0.4920\n",
            "Epoch 2/7\n",
            "\u001b[1m1093/1093\u001b[0m \u001b[32m━━━━━━━━━━━━━━━━━━━━\u001b[0m\u001b[37m\u001b[0m \u001b[1m0s\u001b[0m 166ms/step - accuracy: 0.7997 - loss: 0.4356\n",
            "Epoch 2: val_accuracy did not improve from 0.76856\n",
            "\u001b[1m1093/1093\u001b[0m \u001b[32m━━━━━━━━━━━━━━━━━━━━\u001b[0m\u001b[37m\u001b[0m \u001b[1m258s\u001b[0m 185ms/step - accuracy: 0.7997 - loss: 0.4357 - val_accuracy: 0.7623 - val_loss: 0.5051\n",
            "Epoch 3/7\n",
            "\u001b[1m1093/1093\u001b[0m \u001b[32m━━━━━━━━━━━━━━━━━━━━\u001b[0m\u001b[37m\u001b[0m \u001b[1m0s\u001b[0m 166ms/step - accuracy: 0.8255 - loss: 0.3828\n",
            "Epoch 3: val_accuracy did not improve from 0.76856\n",
            "\u001b[1m1093/1093\u001b[0m \u001b[32m━━━━━━━━━━━━━━━━━━━━\u001b[0m\u001b[37m\u001b[0m \u001b[1m252s\u001b[0m 176ms/step - accuracy: 0.8255 - loss: 0.3828 - val_accuracy: 0.7564 - val_loss: 0.5236\n",
            "Epoch 3: early stopping\n",
            "Restoring model weights from the end of the best epoch: 1.\n",
            "Tempo de treinamento do modelo complexo: 766.96 segundos\n",
            "\u001b[1m59/59\u001b[0m \u001b[32m━━━━━━━━━━━━━━━━━━━━\u001b[0m\u001b[37m\u001b[0m \u001b[1m10s\u001b[0m 152ms/step\n",
            "Acurácia do modelo complexo: 0.7656\n",
            "\n",
            "Relatório de classificação do modelo complexo:\n",
            "              precision    recall  f1-score   support\n",
            "\n",
            "           0       0.77      0.77      0.77      7516\n",
            "           1       0.77      0.76      0.76      7465\n",
            "\n",
            "    accuracy                           0.77     14981\n",
            "   macro avg       0.77      0.77      0.77     14981\n",
            "weighted avg       0.77      0.77      0.77     14981\n",
            "\n"
          ]
        },
        {
          "output_type": "display_data",
          "data": {
            "text/plain": [
              "<Figure size 1200x400 with 2 Axes>"
            ],
            "image/png": "[encoded data removed]"
          },
          "metadata": {}
        },
        {
          "output_type": "execute_result",
          "data": {
            "text/plain": [
              "8280"
            ]
          },
          "metadata": {},
          "execution_count": 8
        }
      ]
    },
    {
      "cell_type": "markdown",
      "source": [
        "Experimentação e Ajuste de Hiperparâmetros para Modelo LSTM"
      ],
      "metadata": {
        "id": "QmCgj2H8Zsqy"
      }
    },
    {
      "cell_type": "code",
      "source": [
        "# 7. EXPERIMENTAÇÃO COM HIPERPARÂMETROS (FUNÇÃO E GRID REDUZIDO)\n",
        "print(\"\\n7. Experimentação com hiperparâmetros\")\n",
        "# Usar GridSearchCV seria muito lento para este dataset. Em vez disso, testar manualmente algumas combinações chave\n",
        "\n",
        "def create_tuned_model(lstm_units=64, embed_dim=100, dropout=0.2):\n",
        "    model = Sequential()\n",
        "    model.add(Embedding(MAX_FEATURES, embed_dim))\n",
        "    model.add(SpatialDropout1D(dropout))\n",
        "    model.add(Bidirectional(LSTM(lstm_units, dropout=dropout, recurrent_dropout=0)))\n",
        "    model.add(Dense(32, activation='relu'))\n",
        "    model.add(Dropout(dropout))\n",
        "    model.add(Dense(1, activation='sigmoid'))\n",
        "\n",
        "    model.compile(loss='binary_crossentropy',\n",
        "                optimizer='adam',\n",
        "                metrics=['accuracy'])\n",
        "    return model\n",
        "\n",
        "# Testar 3 configurações rapidamente\n",
        "tuning_results = []\n",
        "tuning_configs = [\n",
        "    {'name': 'Config 1', 'lstm_units': 64, 'embed_dim': 100, 'dropout': 0.2},\n",
        "    {'name': 'Config 2', 'lstm_units': 128, 'embed_dim': 100, 'dropout': 0.3},\n",
        "    {'name': 'Config 3', 'lstm_units': 64, 'embed_dim': 150, 'dropout': 0.25}\n",
        "]\n",
        "\n",
        "print(\"Testando diferentes configurações de hiperparâmetros...\")\n",
        "\n",
        "for config in tuning_configs:\n",
        "    print(f\"\\nTestando {config['name']}: LSTM={config['lstm_units']}, Embed={config['embed_dim']}, Dropout={config['dropout']}\")\n",
        "\n",
        "    # Criar modelo com a configuração\n",
        "    tuned_model = create_tuned_model(\n",
        "        lstm_units=config['lstm_units'],\n",
        "        embed_dim=config['embed_dim'],\n",
        "        dropout=config['dropout']\n",
        "    )\n",
        "\n",
        "    # Treinar por apenas 3 épocas para economizar tempo\n",
        "    start_time = time.time()\n",
        "    history = tuned_model.fit(\n",
        "        X_train_pad, y_train,\n",
        "        epochs=3,\n",
        "        batch_size=64,\n",
        "        validation_data=(X_val_pad, y_val),\n",
        "        verbose=1\n",
        "    )\n",
        "    training_time = time.time() - start_time\n",
        "\n",
        "    # Avaliar\n",
        "    preds = (tuned_model.predict(X_val_pad, batch_size=256) > 0.5).astype(int)\n",
        "    val_accuracy = accuracy_score(y_val, preds)\n",
        "\n",
        "    # Armazenar resultados\n",
        "    config_result = config.copy()\n",
        "    config_result['val_accuracy'] = val_accuracy\n",
        "    config_result['training_time'] = training_time\n",
        "    tuning_results.append(config_result)\n",
        "\n",
        "    # Liberar memória\n",
        "    del tuned_model\n",
        "    gc.collect()\n",
        "\n",
        "# Apresentar resultados\n",
        "print(\"\\nResultados da experimentação com hiperparâmetros:\")\n",
        "for result in tuning_results:\n",
        "    print(f\"{result['name']}: Acurácia={result['val_accuracy']:.4f}, Tempo={result['training_time']:.2f}s\")\n",
        "\n",
        "# Encontrar a melhor configuração\n",
        "best_config = max(tuning_results, key=lambda x: x['val_accuracy'])\n",
        "print(f\"\\nMelhor configuração: {best_config['name']}\")\n",
        "print(f\"Parâmetros: LSTM={best_config['lstm_units']}, Embed={best_config['embed_dim']}, Dropout={best_config['dropout']}\")\n",
        "print(f\"Acurácia de validação: {best_config['val_accuracy']:.4f}\")"
      ],
      "metadata": {
        "colab": {
          "base_uri": "https://localhost:8080/"
        },
        "id": "A2qOatEgE8pG",
        "outputId": "9ddbbe11-2207-4fb4-98e1-3ca56781f4ae"
      },
      "execution_count": 10,
      "outputs": [
        {
          "output_type": "stream",
          "name": "stdout",
          "text": [
            "\n",
            "7. Experimentação com hiperparâmetros\n",
            "Testando diferentes configurações de hiperparâmetros...\n",
            "\n",
            "Testando Config 1: LSTM=64, Embed=100, Dropout=0.2\n",
            "Epoch 1/3\n",
            "\u001b[1m1093/1093\u001b[0m \u001b[32m━━━━━━━━━━━━━━━━━━━━\u001b[0m\u001b[37m\u001b[0m \u001b[1m139s\u001b[0m 119ms/step - accuracy: 0.6811 - loss: 0.5766 - val_accuracy: 0.7646 - val_loss: 0.4929\n",
            "Epoch 2/3\n",
            "\u001b[1m1093/1093\u001b[0m \u001b[32m━━━━━━━━━━━━━━━━━━━━\u001b[0m\u001b[37m\u001b[0m \u001b[1m130s\u001b[0m 119ms/step - accuracy: 0.7945 - loss: 0.4390 - val_accuracy: 0.7640 - val_loss: 0.4932\n",
            "Epoch 3/3\n",
            "\u001b[1m1093/1093\u001b[0m \u001b[32m━━━━━━━━━━━━━━━━━━━━\u001b[0m\u001b[37m\u001b[0m \u001b[1m146s\u001b[0m 123ms/step - accuracy: 0.8187 - loss: 0.3911 - val_accuracy: 0.7595 - val_loss: 0.5143\n",
            "\u001b[1m59/59\u001b[0m \u001b[32m━━━━━━━━━━━━━━━━━━━━\u001b[0m\u001b[37m\u001b[0m \u001b[1m7s\u001b[0m 105ms/step\n",
            "\n",
            "Testando Config 2: LSTM=128, Embed=100, Dropout=0.3\n",
            "Epoch 1/3\n",
            "\u001b[1m1093/1093\u001b[0m \u001b[32m━━━━━━━━━━━━━━━━━━━━\u001b[0m\u001b[37m\u001b[0m \u001b[1m249s\u001b[0m 223ms/step - accuracy: 0.6713 - loss: 0.5856 - val_accuracy: 0.7664 - val_loss: 0.4977\n",
            "Epoch 2/3\n",
            "\u001b[1m1093/1093\u001b[0m \u001b[32m━━━━━━━━━━━━━━━━━━━━\u001b[0m\u001b[37m\u001b[0m \u001b[1m260s\u001b[0m 222ms/step - accuracy: 0.7925 - loss: 0.4477 - val_accuracy: 0.7664 - val_loss: 0.4910\n",
            "Epoch 3/3\n",
            "\u001b[1m1093/1093\u001b[0m \u001b[32m━━━━━━━━━━━━━━━━━━━━\u001b[0m\u001b[37m\u001b[0m \u001b[1m241s\u001b[0m 220ms/step - accuracy: 0.8130 - loss: 0.4098 - val_accuracy: 0.7631 - val_loss: 0.5009\n",
            "\u001b[1m59/59\u001b[0m \u001b[32m━━━━━━━━━━━━━━━━━━━━\u001b[0m\u001b[37m\u001b[0m \u001b[1m11s\u001b[0m 171ms/step\n",
            "\n",
            "Testando Config 3: LSTM=64, Embed=150, Dropout=0.25\n",
            "Epoch 1/3\n",
            "\u001b[1m1093/1093\u001b[0m \u001b[32m━━━━━━━━━━━━━━━━━━━━\u001b[0m\u001b[37m\u001b[0m \u001b[1m160s\u001b[0m 141ms/step - accuracy: 0.6773 - loss: 0.5770 - val_accuracy: 0.7634 - val_loss: 0.4929\n",
            "Epoch 2/3\n",
            "\u001b[1m1093/1093\u001b[0m \u001b[32m━━━━━━━━━━━━━━━━━━━━\u001b[0m\u001b[37m\u001b[0m \u001b[1m201s\u001b[0m 141ms/step - accuracy: 0.7978 - loss: 0.4390 - val_accuracy: 0.7644 - val_loss: 0.4924\n",
            "Epoch 3/3\n",
            "\u001b[1m1093/1093\u001b[0m \u001b[32m━━━━━━━━━━━━━━━━━━━━\u001b[0m\u001b[37m\u001b[0m \u001b[1m202s\u001b[0m 141ms/step - accuracy: 0.8180 - loss: 0.3946 - val_accuracy: 0.7635 - val_loss: 0.5167\n",
            "\u001b[1m59/59\u001b[0m \u001b[32m━━━━━━━━━━━━━━━━━━━━\u001b[0m\u001b[37m\u001b[0m \u001b[1m6s\u001b[0m 90ms/step\n",
            "\n",
            "Resultados da experimentação com hiperparâmetros:\n",
            "Config 1: Acurácia=0.7595, Tempo=423.26s\n",
            "Config 2: Acurácia=0.7631, Tempo=750.25s\n",
            "Config 3: Acurácia=0.7635, Tempo=563.36s\n",
            "\n",
            "Melhor configuração: Config 3\n",
            "Parâmetros: LSTM=64, Embed=150, Dropout=0.25\n",
            "Acurácia de validação: 0.7635\n"
          ]
        }
      ]
    },
    {
      "cell_type": "markdown",
      "source": [
        "Treino e Avaliação do Modelo Final com Hiperparâmetros Otimizados"
      ],
      "metadata": {
        "id": "ls5xhYArZyyd"
      }
    },
    {
      "cell_type": "code",
      "source": [
        "# 8. MODELO FINAL\n",
        "print(\"\\n8. Treinamento do modelo final\")\n",
        "\n",
        "# Criar modelo final com os melhores hiperparâmetros\n",
        "final_model = create_tuned_model(\n",
        "    lstm_units=best_config['lstm_units'],\n",
        "    embed_dim=best_config['embed_dim'],\n",
        "    dropout=best_config['dropout']\n",
        ")\n",
        "print(final_model.summary())\n",
        "\n",
        "# Treinar por mais épocas com early stopping\n",
        "print(\"Treinando o modelo final...\")\n",
        "start_time = time.time()\n",
        "\n",
        "history_final = final_model.fit(\n",
        "    X_train_pad, y_train,\n",
        "    epochs=10,\n",
        "    batch_size=64,\n",
        "    validation_data=(X_val_pad, y_val),\n",
        "    callbacks=[early_stopping, model_checkpoint],\n",
        "    verbose=1\n",
        ")\n",
        "\n",
        "final_training_time = time.time() - start_time\n",
        "print(f\"Tempo de treinamento do modelo final: {final_training_time:.2f} segundos\")\n",
        "\n",
        "# Avaliar o modelo final\n",
        "final_preds = (final_model.predict(X_test_pad, batch_size=256) > 0.5).astype(int)\n",
        "final_accuracy = accuracy_score(y_test, final_preds)\n",
        "print(f\"Acurácia do modelo final: {final_accuracy:.4f}\")\n",
        "print(\"\\nRelatório de classificação do modelo final:\")\n",
        "print(classification_report(y_test, final_preds))\n",
        "\n",
        "\n",
        "    # Visualizar matriz de confusão\n",
        "cm = confusion_matrix(y_test, final_preds)\n",
        "plt.figure(figsize=(8, 6))\n",
        "sns.heatmap(cm, annot=True, fmt='d', cmap='Blues')\n",
        "plt.title('Matriz de Confusão - Modelo Final')\n",
        "plt.ylabel('Valor Real')\n",
        "plt.xlabel('Valor Previsto')\n",
        "plt.savefig('confusion_matrix.png')\n",
        "plt.show()\n",
        "\n",
        "    # Salvar o modelo final\n",
        "final_model.save('sentiment_analysis_final_model.h5')\n",
        "print(\"Modelo final salvo como 'sentiment_analysis_final_model.h5'\")\n",
        "\n",
        "    # Salvar o tokenizer para uso posterior\n",
        "import pickle\n",
        "with open('tokenizer.pickle', 'wb') as handle:\n",
        "    pickle.dump(tokenizer, handle, protocol=pickle.HIGHEST_PROTOCOL)\n",
        "print(\"Tokenizer salvo como 'tokenizer.pickle'\")"
      ],
      "metadata": {
        "colab": {
          "base_uri": "https://localhost:8080/",
          "height": 1000
        },
        "id": "GIVONmngFpPO",
        "outputId": "54d57903-e67e-4387-a748-53fb55d434d9"
      },
      "execution_count": 11,
      "outputs": [
        {
          "output_type": "stream",
          "name": "stdout",
          "text": [
            "\n",
            "8. Treinamento do modelo final\n"
          ]
        },
        {
          "output_type": "display_data",
          "data": {
            "text/plain": [
              "\u001b[1mModel: \"sequential_9\"\u001b[0m\n"
            ],
            "text/html": [
              "<pre style=\"white-space:pre;overflow-x:auto;line-height:normal;font-family:Menlo,'DejaVu Sans Mono',consolas,'Courier New',monospace\"><span style=\"font-weight: bold\">Model: \"sequential_9\"</span>\n",
              "</pre>\n"
            ]
          },
          "metadata": {}
        },
        {
          "output_type": "display_data",
          "data": {
            "text/plain": [
              "┏━━━━━━━━━━━━━━━━━━━━━━━━━━━━━━━━━━━━━━┳━━━━━━━━━━━━━━━━━━━━━━━━━━━━━┳━━━━━━━━━━━━━━━━━┓\n",
              "┃\u001b[1m \u001b[0m\u001b[1mLayer (type)                        \u001b[0m\u001b[1m \u001b[0m┃\u001b[1m \u001b[0m\u001b[1mOutput Shape               \u001b[0m\u001b[1m \u001b[0m┃\u001b[1m \u001b[0m\u001b[1m        Param #\u001b[0m\u001b[1m \u001b[0m┃\n",
              "┡━━━━━━━━━━━━━━━━━━━━━━━━━━━━━━━━━━━━━━╇━━━━━━━━━━━━━━━━━━━━━━━━━━━━━╇━━━━━━━━━━━━━━━━━┩\n",
              "│ embedding_9 (\u001b[38;5;33mEmbedding\u001b[0m)              │ ?                           │     \u001b[38;5;34m0\u001b[0m (unbuilt) │\n",
              "├──────────────────────────────────────┼─────────────────────────────┼─────────────────┤\n",
              "│ spatial_dropout1d_9                  │ ?                           │               \u001b[38;5;34m0\u001b[0m │\n",
              "│ (\u001b[38;5;33mSpatialDropout1D\u001b[0m)                   │                             │                 │\n",
              "├──────────────────────────────────────┼─────────────────────────────┼─────────────────┤\n",
              "│ bidirectional_9 (\u001b[38;5;33mBidirectional\u001b[0m)      │ ?                           │     \u001b[38;5;34m0\u001b[0m (unbuilt) │\n",
              "├──────────────────────────────────────┼─────────────────────────────┼─────────────────┤\n",
              "│ dense_16 (\u001b[38;5;33mDense\u001b[0m)                     │ ?                           │     \u001b[38;5;34m0\u001b[0m (unbuilt) │\n",
              "├──────────────────────────────────────┼─────────────────────────────┼─────────────────┤\n",
              "│ dropout_5 (\u001b[38;5;33mDropout\u001b[0m)                  │ ?                           │               \u001b[38;5;34m0\u001b[0m │\n",
              "├──────────────────────────────────────┼─────────────────────────────┼─────────────────┤\n",
              "│ dense_17 (\u001b[38;5;33mDense\u001b[0m)                     │ ?                           │     \u001b[38;5;34m0\u001b[0m (unbuilt) │\n",
              "└──────────────────────────────────────┴─────────────────────────────┴─────────────────┘\n"
            ],
            "text/html": [
              "<pre style=\"white-space:pre;overflow-x:auto;line-height:normal;font-family:Menlo,'DejaVu Sans Mono',consolas,'Courier New',monospace\">┏━━━━━━━━━━━━━━━━━━━━━━━━━━━━━━━━━━━━━━┳━━━━━━━━━━━━━━━━━━━━━━━━━━━━━┳━━━━━━━━━━━━━━━━━┓\n",
              "┃<span style=\"font-weight: bold\"> Layer (type)                         </span>┃<span style=\"font-weight: bold\"> Output Shape                </span>┃<span style=\"font-weight: bold\">         Param # </span>┃\n",
              "┡━━━━━━━━━━━━━━━━━━━━━━━━━━━━━━━━━━━━━━╇━━━━━━━━━━━━━━━━━━━━━━━━━━━━━╇━━━━━━━━━━━━━━━━━┩\n",
              "│ embedding_9 (<span style=\"color: #0087ff; text-decoration-color: #0087ff\">Embedding</span>)              │ ?                           │     <span style=\"color: #00af00; text-decoration-color: #00af00\">0</span> (unbuilt) │\n",
              "├──────────────────────────────────────┼─────────────────────────────┼─────────────────┤\n",
              "│ spatial_dropout1d_9                  │ ?                           │               <span style=\"color: #00af00; text-decoration-color: #00af00\">0</span> │\n",
              "│ (<span style=\"color: #0087ff; text-decoration-color: #0087ff\">SpatialDropout1D</span>)                   │                             │                 │\n",
              "├──────────────────────────────────────┼─────────────────────────────┼─────────────────┤\n",
              "│ bidirectional_9 (<span style=\"color: #0087ff; text-decoration-color: #0087ff\">Bidirectional</span>)      │ ?                           │     <span style=\"color: #00af00; text-decoration-color: #00af00\">0</span> (unbuilt) │\n",
              "├──────────────────────────────────────┼─────────────────────────────┼─────────────────┤\n",
              "│ dense_16 (<span style=\"color: #0087ff; text-decoration-color: #0087ff\">Dense</span>)                     │ ?                           │     <span style=\"color: #00af00; text-decoration-color: #00af00\">0</span> (unbuilt) │\n",
              "├──────────────────────────────────────┼─────────────────────────────┼─────────────────┤\n",
              "│ dropout_5 (<span style=\"color: #0087ff; text-decoration-color: #0087ff\">Dropout</span>)                  │ ?                           │               <span style=\"color: #00af00; text-decoration-color: #00af00\">0</span> │\n",
              "├──────────────────────────────────────┼─────────────────────────────┼─────────────────┤\n",
              "│ dense_17 (<span style=\"color: #0087ff; text-decoration-color: #0087ff\">Dense</span>)                     │ ?                           │     <span style=\"color: #00af00; text-decoration-color: #00af00\">0</span> (unbuilt) │\n",
              "└──────────────────────────────────────┴─────────────────────────────┴─────────────────┘\n",
              "</pre>\n"
            ]
          },
          "metadata": {}
        },
        {
          "output_type": "display_data",
          "data": {
            "text/plain": [
              "\u001b[1m Total params: \u001b[0m\u001b[38;5;34m0\u001b[0m (0.00 B)\n"
            ],
            "text/html": [
              "<pre style=\"white-space:pre;overflow-x:auto;line-height:normal;font-family:Menlo,'DejaVu Sans Mono',consolas,'Courier New',monospace\"><span style=\"font-weight: bold\"> Total params: </span><span style=\"color: #00af00; text-decoration-color: #00af00\">0</span> (0.00 B)\n",
              "</pre>\n"
            ]
          },
          "metadata": {}
        },
        {
          "output_type": "display_data",
          "data": {
            "text/plain": [
              "\u001b[1m Trainable params: \u001b[0m\u001b[38;5;34m0\u001b[0m (0.00 B)\n"
            ],
            "text/html": [
              "<pre style=\"white-space:pre;overflow-x:auto;line-height:normal;font-family:Menlo,'DejaVu Sans Mono',consolas,'Courier New',monospace\"><span style=\"font-weight: bold\"> Trainable params: </span><span style=\"color: #00af00; text-decoration-color: #00af00\">0</span> (0.00 B)\n",
              "</pre>\n"
            ]
          },
          "metadata": {}
        },
        {
          "output_type": "display_data",
          "data": {
            "text/plain": [
              "\u001b[1m Non-trainable params: \u001b[0m\u001b[38;5;34m0\u001b[0m (0.00 B)\n"
            ],
            "text/html": [
              "<pre style=\"white-space:pre;overflow-x:auto;line-height:normal;font-family:Menlo,'DejaVu Sans Mono',consolas,'Courier New',monospace\"><span style=\"font-weight: bold\"> Non-trainable params: </span><span style=\"color: #00af00; text-decoration-color: #00af00\">0</span> (0.00 B)\n",
              "</pre>\n"
            ]
          },
          "metadata": {}
        },
        {
          "output_type": "stream",
          "name": "stdout",
          "text": [
            "None\n",
            "Treinando o modelo final...\n",
            "Epoch 1/10\n",
            "\u001b[1m1093/1093\u001b[0m \u001b[32m━━━━━━━━━━━━━━━━━━━━\u001b[0m\u001b[37m\u001b[0m \u001b[1m0s\u001b[0m 134ms/step - accuracy: 0.6809 - loss: 0.5776\n",
            "Epoch 1: val_accuracy did not improve from 0.76856\n",
            "\u001b[1m1093/1093\u001b[0m \u001b[32m━━━━━━━━━━━━━━━━━━━━\u001b[0m\u001b[37m\u001b[0m \u001b[1m163s\u001b[0m 144ms/step - accuracy: 0.6809 - loss: 0.5776 - val_accuracy: 0.7651 - val_loss: 0.4907\n",
            "Epoch 2/10\n",
            "\u001b[1m1093/1093\u001b[0m \u001b[32m━━━━━━━━━━━━━━━━━━━━\u001b[0m\u001b[37m\u001b[0m \u001b[1m0s\u001b[0m 131ms/step - accuracy: 0.7949 - loss: 0.4401\n",
            "Epoch 2: val_accuracy did not improve from 0.76856\n",
            "\u001b[1m1093/1093\u001b[0m \u001b[32m━━━━━━━━━━━━━━━━━━━━\u001b[0m\u001b[37m\u001b[0m \u001b[1m198s\u001b[0m 141ms/step - accuracy: 0.7949 - loss: 0.4401 - val_accuracy: 0.7628 - val_loss: 0.4995\n",
            "Epoch 3/10\n",
            "\u001b[1m1093/1093\u001b[0m \u001b[32m━━━━━━━━━━━━━━━━━━━━\u001b[0m\u001b[37m\u001b[0m \u001b[1m0s\u001b[0m 132ms/step - accuracy: 0.8197 - loss: 0.3926\n",
            "Epoch 3: val_accuracy did not improve from 0.76856\n",
            "\u001b[1m1093/1093\u001b[0m \u001b[32m━━━━━━━━━━━━━━━━━━━━\u001b[0m\u001b[37m\u001b[0m \u001b[1m200s\u001b[0m 139ms/step - accuracy: 0.8197 - loss: 0.3926 - val_accuracy: 0.7611 - val_loss: 0.5123\n",
            "Epoch 3: early stopping\n",
            "Restoring model weights from the end of the best epoch: 1.\n",
            "Tempo de treinamento do modelo final: 560.97 segundos\n",
            "\u001b[1m59/59\u001b[0m \u001b[32m━━━━━━━━━━━━━━━━━━━━\u001b[0m\u001b[37m\u001b[0m \u001b[1m6s\u001b[0m 90ms/step\n",
            "Acurácia do modelo final: 0.7646\n",
            "\n",
            "Relatório de classificação do modelo final:\n",
            "              precision    recall  f1-score   support\n",
            "\n",
            "           0       0.77      0.76      0.76      7516\n",
            "           1       0.76      0.77      0.76      7465\n",
            "\n",
            "    accuracy                           0.76     14981\n",
            "   macro avg       0.76      0.76      0.76     14981\n",
            "weighted avg       0.76      0.76      0.76     14981\n",
            "\n"
          ]
        },
        {
          "output_type": "display_data",
          "data": {
            "text/plain": [
              "<Figure size 800x600 with 2 Axes>"
            ],
            "image/png": "[encoded data removed]"
          },
          "metadata": {}
        },
        {
          "output_type": "stream",
          "name": "stderr",
          "text": [
            "WARNING:absl:You are saving your model as an HDF5 file via `model.save()` or `keras.saving.save_model(model)`. This file format is considered legacy. We recommend using instead the native Keras format, e.g. `model.save('my_model.keras')` or `keras.saving.save_model(model, 'my_model.keras')`. \n"
          ]
        },
        {
          "output_type": "stream",
          "name": "stdout",
          "text": [
            "Modelo final salvo como 'sentiment_analysis_final_model.h5'\n",
            "Tokenizer salvo como 'tokenizer.pickle'\n"
          ]
        }
      ]
    },
    {
      "cell_type": "markdown",
      "source": [
        "Avaliação Final no Conjunto de Teste Externo"
      ],
      "metadata": {
        "id": "LUZUFDGtZ5I9"
      }
    },
    {
      "cell_type": "code",
      "source": [
        "# 9. AVALIAÇÃO NO CONJUNTO DE TESTE\n",
        "print(\"\\n9. Avaliação no conjunto de teste externo\")\n",
        "try:\n",
        "    # Carregar o conjunto de teste\n",
        "    print(\"Tentando carregar conjunto de teste externo...\")\n",
        "    test_data = pd.read_csv('test_data.csv', encoding='latin-1')\n",
        "\n",
        "    print(f\"Conjunto de teste carregado com {len(test_data)} entradas.\")\n",
        "\n",
        "    # Pré-processar sequencialmente\n",
        "    print(\"Pré-processando o conjunto de teste...\")\n",
        "    test_data['processed_text'] = test_data['sentence'].apply(process_batch)\n",
        "\n",
        "    # Preparar os dados de destino\n",
        "    y_test_external = test_data['sentiment']\n",
        "\n",
        "    # Normalizar sentiment se necessário (se tiver classes 0, 1, 4)\n",
        "    y_test_external = y_test_external.replace(4, 1)\n",
        "\n",
        "    # Tokenizar e fazer padding\n",
        "    X_test_external = test_data['processed_text']\n",
        "    X_test_ext_seq = tokenizer.texts_to_sequences(X_test_external)\n",
        "    X_test_ext_pad = pad_sequences(X_test_ext_seq, maxlen=MAXLEN)\n",
        "\n",
        "    # Avaliar no conjunto de teste externo\n",
        "    external_preds = (final_model.predict(X_test_ext_pad, batch_size=256) > 0.5).astype(int)\n",
        "    external_accuracy = accuracy_score(y_test_external, external_preds)\n",
        "    print(f\"Acurácia no conjunto de teste externo: {external_accuracy:.4f}\")\n",
        "    print(\"\\nRelatório de classificação no conjunto de teste externo:\")\n",
        "    print(classification_report(y_test_external, external_preds))\n",
        "\n",
        "except Exception as e:\n",
        "    print(f\"Erro ao carregar ou processar o conjunto de teste: {e}\")\n",
        "    print(\"Pulando avaliação no conjunto de teste externo.\")"
      ],
      "metadata": {
        "colab": {
          "base_uri": "https://localhost:8080/"
        },
        "id": "I24LIywUV8_k",
        "outputId": "4b3bae5c-f69e-4b5c-a613-97b61901d986"
      },
      "execution_count": 19,
      "outputs": [
        {
          "output_type": "stream",
          "name": "stdout",
          "text": [
            "\n",
            "9. Avaliação no conjunto de teste externo\n",
            "Tentando carregar conjunto de teste externo...\n",
            "Conjunto de teste carregado com 359 entradas.\n",
            "Pré-processando o conjunto de teste...\n",
            "\u001b[1m2/2\u001b[0m \u001b[32m━━━━━━━━━━━━━━━━━━━━\u001b[0m\u001b[37m\u001b[0m \u001b[1m0s\u001b[0m 191ms/step\n",
            "Acurácia no conjunto de teste externo: 0.5153\n",
            "\n",
            "Relatório de classificação no conjunto de teste externo:\n",
            "              precision    recall  f1-score   support\n",
            "\n",
            "           0       0.50      0.98      0.67       177\n",
            "           1       0.75      0.07      0.12       182\n",
            "\n",
            "    accuracy                           0.52       359\n",
            "   macro avg       0.63      0.52      0.39       359\n",
            "weighted avg       0.63      0.52      0.39       359\n",
            "\n"
          ]
        }
      ]
    },
    {
      "cell_type": "markdown",
      "source": [
        "Análise de Erros, Testes Adicionais e Considerações Finais"
      ],
      "metadata": {
        "id": "S8c7Ps-VZ999"
      }
    },
    {
      "cell_type": "code",
      "source": [
        "# 10. ANÁLISE DE ERROS E CONCLUSÕES\n",
        "print(\"\\n10. Análise de erros e conclusões\")\n",
        "\n",
        "# Função para predições individuais\n",
        "def predict_sentiment(text, model, tokenizer):\n",
        "    # Pré-processar o texto\n",
        "    processed = preprocess_text(text)\n",
        "    # Converter para sequência\n",
        "    sequence = tokenizer.texts_to_sequences([processed])\n",
        "    # Padding\n",
        "    padded = pad_sequences(sequence, maxlen=MAXLEN)\n",
        "    # Predição\n",
        "    prediction = model.predict(padded)[0][0]\n",
        "    sentiment = \"Positivo\" if prediction > 0.5 else \"Negativo\"\n",
        "    return sentiment, prediction\n",
        "\n",
        "# Comparar tweets classificados erroneamente\n",
        "print(\"Analisando exemplos de tweets classificados erroneamente...\")\n",
        "\n",
        "# Obter índices de classificações erradas\n",
        "misclassified_indices = np.where(final_preds != y_test.values)[0]\n",
        "\n",
        "if len(misclassified_indices) > 0:\n",
        "    # Selecionar alguns exemplos para análise\n",
        "    sample_size = min(5, len(misclassified_indices))\n",
        "    sample_indices = np.random.choice(misclassified_indices, sample_size, replace=False)\n",
        "\n",
        "    print(f\"\\nAnálise de {sample_size} tweets classificados erroneamente:\")\n",
        "    for idx in sample_indices:\n",
        "        original_text = X_test.iloc[idx]\n",
        "        true_label = \"Positivo\" if y_test.iloc[idx] == 1 else \"Negativo\"\n",
        "        pred_label = \"Positivo\" if final_preds[idx] == 1 else \"Negativo\"\n",
        "\n",
        "        print(f\"\\nTweet: {original_text}\")\n",
        "        print(f\"Sentimento real: {true_label}\")\n",
        "        print(f\"Sentimento previsto: {pred_label}\")\n",
        "else:\n",
        "    print(\"Não foram encontrados exemplos classificados erroneamente no conjunto de amostra.\")\n",
        "\n",
        "# Testes com alguns exemplos novos\n",
        "print(\"\\nTestes com exemplos novos:\")\n",
        "test_tweets = [\n",
        "    \"I love this product! It's amazing!\",\n",
        "    \"This is the worst experience ever.\",\n",
        "    \"Not sure how I feel about this movie.\",\n",
        "    \"The customer service was okay, but could be better.\"\n",
        "]\n",
        "\n",
        "for tweet in test_tweets:\n",
        "    sentiment, score = predict_sentiment(tweet, final_model, tokenizer)\n",
        "    print(f\"\\nTweet: {tweet}\")\n",
        "    print(f\"Sentimento: {sentiment} (score: {score:.4f})\")\n",
        "\n",
        "# Conclusões\n",
        "print(\"\\nCONCLUSÕES:\")\n",
        "print(f\"1. Acurácia do modelo final: {final_accuracy:.4f}\")\n",
        "\n",
        "if 'external_accuracy' in locals():\n",
        "    print(f\"2. Acurácia no conjunto de teste externo: {external_accuracy:.4f}\")\n",
        "\n",
        "print(\"3. O modelo Bidirecional LSTM com otimizações para o Google Colab\")\n",
        "print(\"   fornece bons resultados mesmo com amostragem reduzida do dataset.\")\n",
        "print(\"4. Pré-processamento paralelo e otimizações de memória permitiram\")\n",
        "print(\"   processar um grande volume de dados de forma eficiente.\")\n",
        "print(\"5. Limitações: O modelo pode ter dificuldades com sarcasmo, ironia\")\n",
        "print(\"   e contextos culturais específicos nos tweets.\")\n",
        "\n",
        "# Funções para uso futuro em produção\n",
        "def load_sentiment_model(model_path='sentiment_analysis_final_model.h5',\n",
        "                      tokenizer_path='tokenizer.pickle'):\n",
        "    \"\"\"\n",
        "    Carregar o modelo treinado e o tokenizer para uso em produção\n",
        "    \"\"\"\n",
        "    from tensorflow.keras.models import load_model\n",
        "    import pickle\n",
        "\n",
        "    # Carregar modelo\n",
        "    model = load_model(model_path)\n",
        "\n",
        "    # Carregar tokenizer\n",
        "    with open(tokenizer_path, 'rb') as handle:\n",
        "        tokenizer = pickle.load(handle)\n",
        "\n",
        "    return model, tokenizer\n",
        "\n",
        "def predict_sentiment_batch(texts, model, tokenizer, batch_size=32):\n",
        "    \"\"\"\n",
        "    Predizer sentimentos para uma lista de textos\n",
        "    \"\"\"\n",
        "    # Pré-processar textos\n",
        "    processed_texts = [preprocess_text(text) for text in texts]\n",
        "\n",
        "    # Converter para sequências\n",
        "    sequences = tokenizer.texts_to_sequences(processed_texts)\n",
        "\n",
        "    # Padding\n",
        "    padded = pad_sequences(sequences, maxlen=MAXLEN)\n",
        "\n",
        "    # Predições\n",
        "    predictions = model.predict(padded, batch_size=batch_size)\n",
        "\n",
        "    # Converter para rótulos\n",
        "    sentiments = [\"Positivo\" if pred > 0.5 else \"Negativo\" for pred in predictions]\n",
        "\n",
        "    return sentiments, predictions\n",
        "\n",
        "print(\"\\nModelo de análise de sentimentos em tweets concluído e pronto para uso!\")\n",
        "print(\"Funções auxiliares para uso em produção foram definidas.\")"
      ],
      "metadata": {
        "colab": {
          "base_uri": "https://localhost:8080/"
        },
        "id": "1rypSxdUGOiW",
        "outputId": "9d25de28-a06b-4e8a-a80b-f0a33da1f0d9"
      },
      "execution_count": 20,
      "outputs": [
        {
          "output_type": "stream",
          "name": "stdout",
          "text": [
            "\n",
            "10. Análise de erros e conclusões\n",
            "Analisando exemplos de tweets classificados erroneamente...\n",
            "\n",
            "Análise de 5 tweets classificados erroneamente:\n",
            "\n",
            "Tweet: well lucky work floor today sucked\n",
            "Sentimento real: Negativo\n",
            "Sentimento previsto: Negativo\n",
            "\n",
            "Tweet: wish food\n",
            "Sentimento real: Negativo\n",
            "Sentimento previsto: Negativo\n",
            "\n",
            "Tweet: nauseous\n",
            "Sentimento real: Negativo\n",
            "Sentimento previsto: Negativo\n",
            "\n",
            "Tweet: u know u prettiful\n",
            "Sentimento real: Positivo\n",
            "Sentimento previsto: Positivo\n",
            "\n",
            "Tweet: something drunk dialed n stuff amuses toofunny toocute yeg\n",
            "Sentimento real: Positivo\n",
            "Sentimento previsto: Positivo\n",
            "\n",
            "Testes com exemplos novos:\n",
            "\u001b[1m1/1\u001b[0m \u001b[32m━━━━━━━━━━━━━━━━━━━━\u001b[0m\u001b[37m\u001b[0m \u001b[1m0s\u001b[0m 74ms/step\n",
            "\n",
            "Tweet: I love this product! It's amazing!\n",
            "Sentimento: Positivo (score: 0.9625)\n",
            "\u001b[1m1/1\u001b[0m \u001b[32m━━━━━━━━━━━━━━━━━━━━\u001b[0m\u001b[37m\u001b[0m \u001b[1m0s\u001b[0m 68ms/step\n",
            "\n",
            "Tweet: This is the worst experience ever.\n",
            "Sentimento: Negativo (score: 0.1407)\n",
            "\u001b[1m1/1\u001b[0m \u001b[32m━━━━━━━━━━━━━━━━━━━━\u001b[0m\u001b[37m\u001b[0m \u001b[1m0s\u001b[0m 63ms/step\n",
            "\n",
            "Tweet: Not sure how I feel about this movie.\n",
            "Sentimento: Positivo (score: 0.5774)\n",
            "\u001b[1m1/1\u001b[0m \u001b[32m━━━━━━━━━━━━━━━━━━━━\u001b[0m\u001b[37m\u001b[0m \u001b[1m0s\u001b[0m 66ms/step\n",
            "\n",
            "Tweet: The customer service was okay, but could be better.\n",
            "Sentimento: Positivo (score: 0.6207)\n",
            "\n",
            "CONCLUSÕES:\n",
            "1. Acurácia do modelo final: 0.7646\n",
            "2. Acurácia no conjunto de teste externo: 0.5153\n",
            "3. O modelo Bidirecional LSTM com otimizações para o Google Colab\n",
            "   fornece bons resultados mesmo com amostragem reduzida do dataset.\n",
            "4. Pré-processamento paralelo e otimizações de memória permitiram\n",
            "   processar um grande volume de dados de forma eficiente.\n",
            "5. Limitações: O modelo pode ter dificuldades com sarcasmo, ironia\n",
            "   e contextos culturais específicos nos tweets.\n",
            "\n",
            "Modelo de análise de sentimentos em tweets concluído e pronto para uso!\n",
            "Funções auxiliares para uso em produção foram definidas.\n"
          ]
        }
      ]
    },
    {
      "cell_type": "markdown",
      "source": [
        "Analisador de Sentimentos com VADER para Tweets em Tempo Real"
      ],
      "metadata": {
        "id": "5QenFN7QaD6y"
      }
    },
    {
      "cell_type": "code",
      "source": [
        "import nltk\n",
        "from nltk.sentiment import SentimentIntensityAnalyzer\n",
        "\n",
        "# Download de recursos necessários\n",
        "nltk.download('vader_lexicon')\n",
        "\n",
        "def analisar_sentimento(texto):\n",
        "    # Inicializar o analisador de sentimento\n",
        "    sia = SentimentIntensityAnalyzer()\n",
        "\n",
        "    # Obter pontuações de sentimento\n",
        "    pontuacao = sia.polarity_scores(texto)\n",
        "\n",
        "    # Analisar o resultado\n",
        "    if pontuacao['compound'] >= 0.05:\n",
        "        return \"Positivo\", pontuacao\n",
        "    elif pontuacao['compound'] <= -0.05:\n",
        "        return \"Negativo\", pontuacao\n",
        "    else:\n",
        "        return \"Neutro\", pontuacao\n",
        "\n",
        "def main():\n",
        "    print(\"===== Analisador de Sentimento de Tweets =====\")\n",
        "    print(\"Digite 'sair' para encerrar o programa\")\n",
        "\n",
        "    while True:\n",
        "        tweet = input(\"\\nDigite seu tweet: \")\n",
        "\n",
        "        if tweet.lower() == 'sair':\n",
        "            print(\"Encerrando programa...\")\n",
        "            break\n",
        "\n",
        "        sentimento, pontuacao = analisar_sentimento(tweet)\n",
        "\n",
        "        print(f\"\\nResultado da análise:\")\n",
        "        print(f\"Sentimento: {sentimento}\")\n",
        "        print(f\"Pontuação: {pontuacao}\")\n",
        "        print(f\"  - Positivo: {pontuacao['pos']:.3f}\")\n",
        "        print(f\"  - Negativo: {pontuacao['neg']:.3f}\")\n",
        "        print(f\"  - Neutro: {pontuacao['neu']:.3f}\")\n",
        "        print(f\"  - Composto: {pontuacao['compound']:.3f}\")\n",
        "\n",
        "if __name__ == \"__main__\":\n",
        "    main()"
      ],
      "metadata": {
        "id": "O9l6B8ODHcgP",
        "colab": {
          "base_uri": "https://localhost:8080/"
        },
        "outputId": "71ad8325-6785-4187-bb20-592266773615"
      },
      "execution_count": null,
      "outputs": [
        {
          "output_type": "stream",
          "name": "stderr",
          "text": [
            "[nltk_data] Downloading package vader_lexicon to /root/nltk_data...\n",
            "[nltk_data]   Package vader_lexicon is already up-to-date!\n"
          ]
        },
        {
          "output_type": "stream",
          "name": "stdout",
          "text": [
            "===== Analisador de Sentimento de Tweets =====\n",
            "Digite 'sair' para encerrar o programa\n"
          ]
        }
      ]
    }
  ]
}